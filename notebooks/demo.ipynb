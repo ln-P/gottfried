{
 "cells": [
  {
   "cell_type": "code",
   "execution_count": 1,
   "metadata": {},
   "outputs": [
    {
     "name": "stdout",
     "output_type": "stream",
     "text": [
      "/home/wowczar/GitHub/leibniz-chat\n"
     ]
    }
   ],
   "source": [
    "cd .."
   ]
  },
  {
   "cell_type": "code",
   "execution_count": 5,
   "metadata": {},
   "outputs": [
    {
     "data": {
      "text/plain": [
       "'The Digital Markets Act defines gatekeepers as a small number of large undertakings providing core platform services with considerable economic power that connect many business users with many end users through their services and leverage their advantages, such as their access to large amounts of data, from one area of activity to another. They exercise control over whole platform ecosystems in the digital economy and are structurally difficult to challenge or contest by existing or new market operators. They can reduce contestability due to the existence of high barriers to entry or exit, including high investment costs, which cannot easily be recuperated in case of exit, and the absence of reduced access to some key inputs in the digital economy. (source: (6) and (4))'"
      ]
     },
     "execution_count": 5,
     "metadata": {},
     "output_type": "execute_result"
    }
   ],
   "source": [
    "from src.gottfried import gradio_demo, ask_leibniz\n",
    "\n",
    "# ask_leibniz(\"What is the difference between a state aid and a subsidy?\") # It know more than you think! - shows that it can answer questions from outisde of provided contexts\n",
    "ask_leibniz(\"Who are the gatekeepers in the Digital Markets Act?\") "
   ]
  },
  {
   "cell_type": "code",
   "execution_count": 6,
   "metadata": {},
   "outputs": [
    {
     "name": "stdout",
     "output_type": "stream",
     "text": [
      "Running on local URL:  http://127.0.0.1:7919\n",
      "\n",
      "To create a public link, set `share=True` in `launch()`.\n"
     ]
    },
    {
     "data": {
      "text/html": [
       "<div><iframe src=\"http://127.0.0.1:7919/\" width=\"100%\" height=\"500\" allow=\"autoplay; camera; microphone; clipboard-read; clipboard-write;\" frameborder=\"0\" allowfullscreen></iframe></div>"
      ],
      "text/plain": [
       "<IPython.core.display.HTML object>"
      ]
     },
     "metadata": {},
     "output_type": "display_data"
    }
   ],
   "source": [
    "gradio_demo()"
   ]
  }
 ],
 "metadata": {
  "kernelspec": {
   "display_name": "leibniz-chat",
   "language": "python",
   "name": "python3"
  },
  "language_info": {
   "codemirror_mode": {
    "name": "ipython",
    "version": 3
   },
   "file_extension": ".py",
   "mimetype": "text/x-python",
   "name": "python",
   "nbconvert_exporter": "python",
   "pygments_lexer": "ipython3",
   "version": "3.9.0"
  },
  "orig_nbformat": 4
 },
 "nbformat": 4,
 "nbformat_minor": 2
}
